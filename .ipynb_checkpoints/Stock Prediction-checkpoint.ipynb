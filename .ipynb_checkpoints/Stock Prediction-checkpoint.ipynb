{
 "cells": [
  {
   "cell_type": "code",
   "execution_count": 25,
   "id": "8c51d6ab",
   "metadata": {},
   "outputs": [
    {
     "name": "stdout",
     "output_type": "stream",
     "text": [
      "Test Prices of Stocks: [293.78100516 298.45462078 303.12823641 307.80185203 312.47546766\n",
      " 317.14908328 321.82269891 326.49631453 331.16993016 335.84354578\n",
      " 340.51716141 345.19077703 349.86439266 354.53800828 359.2116239\n",
      " 363.88523953 368.55885515 373.23247078 377.9060864  382.57970203\n",
      " 387.25331765 391.92693328 396.6005489  401.27416453 405.94778015]\n",
      "Mean Square Error:  2630.352906423399\n",
      "Predicted Price: [419.96862702]\n"
     ]
    },
    {
     "data": {
      "image/png": "[encoded data removed]",
      "text/plain": [
       "<Figure size 432x288 with 1 Axes>"
      ]
     },
     "metadata": {
      "needs_background": "light"
     },
     "output_type": "display_data"
    }
   ],
   "source": [
    "import matplotlib.pyplot as plt\n",
    "import numpy as np\n",
    "from sklearn import datasets, linear_model\n",
    "from sklearn.metrics import mean_squared_error\n",
    "\n",
    "stock_data = np.genfromtxt('SBI Stock Prices.csv', delimiter=',', skip_header=True)\n",
    "stock_week_train = (stock_data[:25,7].reshape(-1, 1))\n",
    "stock_price_train = stock_data[:25,4]\n",
    "stock_week_test = (stock_data[25:50,7].reshape(-1, 1))\n",
    "stock_price_test = stock_data[25:50,4]\n",
    "stock_week_predict = (stock_data[52,7].reshape(-1, 1))\n",
    "\n",
    "model = linear_model.LinearRegression()\n",
    "model.fit(stock_week_train, stock_price_train)\n",
    "\n",
    "stock_price_predict_test = model.predict(stock_week_test)\n",
    "print('Test Prices of Stocks:', stock_price_predict_test)\n",
    "print(\"Mean Square Error: \", mean_squared_error(stock_price_test, stock_price_predict_test))\n",
    "stock_price_predict = model.predict(stock_week_predict)\n",
    "print(\"Predicted Price:\", stock_price_predict)\n",
    "\n",
    "plt.scatter(stock_week_train, stock_price_train)\n",
    "plt.plot(stock_week_test, stock_price_predict_test)\n",
    "plt.show()"
   ]
  }
 ],
 "metadata": {
  "kernelspec": {
   "display_name": "Python 3",
   "language": "python",
   "name": "python3"
  },
  "language_info": {
   "codemirror_mode": {
    "name": "ipython",
    "version": 3
   },
   "file_extension": ".py",
   "mimetype": "text/x-python",
   "name": "python",
   "nbconvert_exporter": "python",
   "pygments_lexer": "ipython3",
   "version": "3.8.8"
  }
 },
 "nbformat": 4,
 "nbformat_minor": 5
}
