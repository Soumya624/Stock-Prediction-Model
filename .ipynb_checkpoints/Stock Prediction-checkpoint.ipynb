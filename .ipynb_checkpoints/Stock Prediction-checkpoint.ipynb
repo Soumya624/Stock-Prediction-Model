{
 "cells": [
  {
   "cell_type": "code",
   "execution_count": 1,
   "id": "98397f7c",
   "metadata": {},
   "outputs": [
    {
     "name": "stdout",
     "output_type": "stream",
     "text": [
      "Test Prices of Stocks: [433.1252541  438.94596558 444.76667705 450.58738853 456.4081    ]\n",
      "Mean Square Error:  370.5060785382005\n",
      "Predicted Price: [473.87023443]\n"
     ]
    },
    {
     "data": {
      "image/png": "[encoded data removed]",
      "text/plain": [
       "<Figure size 432x288 with 1 Axes>"
      ]
     },
     "metadata": {
      "needs_background": "light"
     },
     "output_type": "display_data"
    }
   ],
   "source": [
    "import matplotlib.pyplot as plt\n",
    "import numpy as np\n",
    "from sklearn import datasets, linear_model\n",
    "from sklearn.metrics import mean_squared_error\n",
    "\n",
    "stock_data = np.genfromtxt('SBI Stock Prices.csv', delimiter=',', skip_header=True)\n",
    "stock_week_train = (stock_data[:45,7].reshape(-1, 1))\n",
    "stock_price_train = stock_data[:45,4]\n",
    "stock_week_test = (stock_data[45:50,7].reshape(-1, 1))\n",
    "stock_price_test = stock_data[45:50,4]\n",
    "stock_week_predict = (stock_data[52,7].reshape(-1, 1))\n",
    "\n",
    "model = linear_model.LinearRegression()\n",
    "model.fit(stock_week_train, stock_price_train)\n",
    "\n",
    "stock_price_predict_test = model.predict(stock_week_test)\n",
    "print('Test Prices of Stocks:', stock_price_predict_test)\n",
    "print(\"Mean Square Error: \", mean_squared_error(stock_price_test, stock_price_predict_test))\n",
    "stock_price_predict = model.predict(stock_week_predict)\n",
    "print(\"Predicted Price:\", stock_price_predict)\n",
    "\n",
    "plt.scatter(stock_week_train, stock_price_train)\n",
    "plt.plot(stock_week_test, stock_price_predict_test)\n",
    "plt.show()"
   ]
  }
 ],
 "metadata": {
  "kernelspec": {
   "display_name": "Python 3",
   "language": "python",
   "name": "python3"
  },
  "language_info": {
   "codemirror_mode": {
    "name": "ipython",
    "version": 3
   },
   "file_extension": ".py",
   "mimetype": "text/x-python",
   "name": "python",
   "nbconvert_exporter": "python",
   "pygments_lexer": "ipython3",
   "version": "3.8.8"
  }
 },
 "nbformat": 4,
 "nbformat_minor": 5
}
